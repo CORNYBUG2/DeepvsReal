{
  "nbformat": 4,
  "nbformat_minor": 0,
  "metadata": {
    "colab": {
      "provenance": []
    },
    "kernelspec": {
      "name": "python3",
      "display_name": "Python 3"
    },
    "language_info": {
      "name": "python"
    }
  },
  "cells": [
    {
      "cell_type": "code",
      "source": [
        "import tensorflow as tf\n",
        "\n",
        "# Testing multiple models to get the best out of all.\n",
        "\n",
        "model = tf.keras.models.load_model('/content/drive/MyDrive/Doing some AI thing/projectthingy.h5')\n",
        "model2 = tf.keras.models.load_model('/content/drive/MyDrive/Doing some AI thing/projectthingysecondtry.h5')\n",
        "model3 = tf.keras.models.load_model('/content/drive/MyDrive/Doing some AI thing/projectthingythirdtry.h5')\n"
      ],
      "metadata": {
        "colab": {
          "base_uri": "https://localhost:8080/"
        },
        "id": "lDB_flAZeDYh",
        "outputId": "ccc06a63-15f5-47ae-a153-8c6bd81aa3f0"
      },
      "execution_count": 2,
      "outputs": [
        {
          "output_type": "stream",
          "name": "stderr",
          "text": [
            "WARNING:absl:Compiled the loaded model, but the compiled metrics have yet to be built. `model.compile_metrics` will be empty until you train or evaluate the model.\n",
            "WARNING:absl:Compiled the loaded model, but the compiled metrics have yet to be built. `model.compile_metrics` will be empty until you train or evaluate the model.\n",
            "WARNING:absl:Compiled the loaded model, but the compiled metrics have yet to be built. `model.compile_metrics` will be empty until you train or evaluate the model.\n"
          ]
        }
      ]
    },
    {
      "cell_type": "code",
      "source": [
        "import tensorflow as tf\n",
        "import numpy as np\n",
        "from tensorflow.keras.preprocessing import image\n",
        "\n",
        "def preprocess_image(img_path):\n",
        "    img = image.load_img(img_path, target_size=(256, 256)) # Loads the image from the path.\n",
        "\n",
        "    img_array = image.img_to_array(img) # Converts the image into numpy array.\n",
        "\n",
        "    img_array /= 255.0  # Rescale the values between 0 and 1.\n",
        "\n",
        "    img_array = np.expand_dims(img_array, axis=0) # Adjusts the dimensions.\n",
        "\n",
        "    return img_array\n",
        "\n",
        "\n",
        "img_path = input('Enter the image path : ')\n",
        "\n",
        "preprocessed_image = preprocess_image(img_path)\n",
        "\n",
        "# Use the preprocessed image with your model\n",
        "\n",
        "#Prediction uses model 1.\n",
        "prediction = model.predict(preprocessed_image)\n",
        "\n",
        "#Prediction2 uses model 2.\n",
        "prediction2 = model2.predict(preprocessed_image)\n",
        "\n",
        "#Prediction3 uses model 3.\n",
        "prediction3 = model3.predict(preprocessed_image)\n",
        "print(f'Prediction: {prediction[0][0]}')\n",
        "print(f'Prediction2: {prediction2[0][0]}')\n",
        "print(f'Prediction3: {prediction3[0][0]}')\n"
      ],
      "metadata": {
        "colab": {
          "base_uri": "https://localhost:8080/"
        },
        "id": "LYHObApHeJUp",
        "outputId": "1537b9f5-7cec-4cf8-c21d-4e2d40dff415"
      },
      "execution_count": 13,
      "outputs": [
        {
          "output_type": "stream",
          "name": "stdout",
          "text": [
            "Enter the image path : /content/testimage.jpeg\n",
            "\u001b[1m1/1\u001b[0m \u001b[32m━━━━━━━━━━━━━━━━━━━━\u001b[0m\u001b[37m\u001b[0m \u001b[1m0s\u001b[0m 82ms/step\n",
            "\u001b[1m1/1\u001b[0m \u001b[32m━━━━━━━━━━━━━━━━━━━━\u001b[0m\u001b[37m\u001b[0m \u001b[1m0s\u001b[0m 97ms/step\n",
            "\u001b[1m1/1\u001b[0m \u001b[32m━━━━━━━━━━━━━━━━━━━━\u001b[0m\u001b[37m\u001b[0m \u001b[1m0s\u001b[0m 134ms/step\n",
            "Prediction: 0.9600238800048828\n",
            "Prediction2: 1.0\n",
            "Prediction3: 1.0\n"
          ]
        }
      ]
    },
    {
      "cell_type": "code",
      "source": [
        "# Determine if the image is real or fake\n",
        "\n",
        "\n",
        "# Here using model 2 for the results.\n",
        "\n",
        "if prediction2 > 0.6: # Keeping threshold 60 percent.\n",
        "    result = \"Fake\"\n",
        "else:\n",
        "    result = \"Real\"\n",
        "\n",
        "print(f'The image is: {result}')\n"
      ],
      "metadata": {
        "colab": {
          "base_uri": "https://localhost:8080/"
        },
        "id": "8OzmQEeDhQFR",
        "outputId": "9dded75b-90ae-49d6-8437-fabf13bb6dd0"
      },
      "execution_count": 14,
      "outputs": [
        {
          "output_type": "stream",
          "name": "stdout",
          "text": [
            "The image is: Fake\n"
          ]
        }
      ]
    }
  ]
}
